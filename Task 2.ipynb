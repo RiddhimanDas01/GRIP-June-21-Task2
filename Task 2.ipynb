{
 "cells": [
  {
   "cell_type": "markdown",
   "id": "7698229f",
   "metadata": {},
   "source": [
    "## Task (2) - Color Identification & Detection\n",
    "\n",
    "Implementing an image color detector which identifies all the colors in any sample \n",
    "image or video"
   ]
  },
  {
   "cell_type": "markdown",
   "id": "163f523c",
   "metadata": {},
   "source": [
    "### Importing required libraries"
   ]
  },
  {
   "cell_type": "code",
   "execution_count": 1,
   "id": "7b64d498",
   "metadata": {},
   "outputs": [],
   "source": [
    "import cv2\n",
    "import pandas as pd"
   ]
  },
  {
   "cell_type": "markdown",
   "id": "f98bd389",
   "metadata": {},
   "source": [
    "### Import and access the files"
   ]
  },
  {
   "cell_type": "code",
   "execution_count": 2,
   "id": "6b6d0d53",
   "metadata": {},
   "outputs": [],
   "source": [
    "smpImage_path='sample.jpg'\n",
    "file_path='Shades.csv'"
   ]
  },
  {
   "cell_type": "markdown",
   "id": "add8b47c",
   "metadata": {},
   "source": [
    "### Reading the csv file and assigning names to each column"
   ]
  },
  {
   "cell_type": "code",
   "execution_count": 3,
   "id": "47853ece",
   "metadata": {},
   "outputs": [],
   "source": [
    "index_c=['color','color_name','hex','R','G','B']\n",
    "df_csv=pd.read_csv(file_path,names=index_c,header=None)"
   ]
  },
  {
   "cell_type": "markdown",
   "id": "bacf029c",
   "metadata": {},
   "source": [
    "### Reading the image and configure the size"
   ]
  },
  {
   "cell_type": "code",
   "execution_count": 4,
   "id": "e69fbbcb",
   "metadata": {},
   "outputs": [],
   "source": [
    "img=cv2.imread(smpImage_path)\n",
    "img=cv2.resize(img,(600,400))"
   ]
  },
  {
   "cell_type": "markdown",
   "id": "b1a030d3",
   "metadata": {},
   "source": [
    "### Declare the variables"
   ]
  },
  {
   "cell_type": "code",
   "execution_count": 5,
   "id": "1cd7fc27",
   "metadata": {},
   "outputs": [],
   "source": [
    "clicked=False\n",
    "r=g=b=ypos=0"
   ]
  },
  {
   "cell_type": "markdown",
   "id": "590abade",
   "metadata": {},
   "source": [
    "#### To calculate the minimum distance from all the colors and get the most matching color"
   ]
  },
  {
   "cell_type": "code",
   "execution_count": 6,
   "id": "0084a131",
   "metadata": {},
   "outputs": [],
   "source": [
    "def det_color_name(R,G,B):\n",
    "    minimum = 10000\n",
    "    for i in range(len(df_csv)):\n",
    "        d = abs(R - int(df_csv.loc[i, \"R\"])) + abs(G - int(df_csv.loc[i, \"G\"])) + abs(B - int(df_csv.loc[i, \"B\"]))\n",
    "        if d <= minimum:\n",
    "            minimum = d\n",
    "            colorName =df_csv.loc[i, \"color_name\"]\n",
    "    return colorName  "
   ]
  },
  {
   "cell_type": "markdown",
   "id": "8bff8700",
   "metadata": {},
   "source": [
    "####  To get the x,y coordinates of mouse click"
   ]
  },
  {
   "cell_type": "code",
   "execution_count": 7,
   "id": "9082f3e6",
   "metadata": {},
   "outputs": [],
   "source": [
    "def pos_func(event, x, y, flags, param):\n",
    "    if event == cv2.EVENT_LBUTTONDBLCLK:\n",
    "        global b, g, r, x_pos, y_pos, clicked\n",
    "        clicked = True\n",
    "        x_pos = x\n",
    "        y_pos = y\n",
    "        b, g, r = img[y, x]\n",
    "        b = int(b)\n",
    "        g = int(g)\n",
    "        r = int(r)"
   ]
  },
  {
   "cell_type": "markdown",
   "id": "f6e57808",
   "metadata": {},
   "source": [
    "#### To show the sample image and detect the colours "
   ]
  },
  {
   "cell_type": "code",
   "execution_count": null,
   "id": "62ee296e",
   "metadata": {},
   "outputs": [],
   "source": [
    "cv2.namedWindow('Smpimage')\n",
    "cv2.setMouseCallback('Smpimage', pos_func)\n",
    "while True:\n",
    "    cv2.imshow(\"Smpimage\", img)\n",
    "    if clicked:\n",
    "        cv2.rectangle(img, (20, 20), (750, 60), (b, g, r), -1)\n",
    "        text = det_color_name(r, g, b) + ' R -' + str(r) + ' G -' + str(g) + ' B -' + str(b)\n",
    "        cv2.putText(img, text, (50, 50), 2, 0.8, (255, 255, 255), 2, cv2.LINE_AA)\n",
    "        if r + g + b >= 600:\n",
    "            cv2.putText(img, text, (50, 50), 2, 0.8, (0, 0, 0), 2, cv2.LINE_AA)\n",
    "             \n",
    "        \n",
    "    if cv2.waitKey(20) & 0xFF == 27:\n",
    "        break   \n",
    "        \n",
    "cv2.destroyAllWindows()"
   ]
  }
 ],
 "metadata": {
  "kernelspec": {
   "display_name": "Python 3",
   "language": "python",
   "name": "python3"
  },
  "language_info": {
   "codemirror_mode": {
    "name": "ipython",
    "version": 3
   },
   "file_extension": ".py",
   "mimetype": "text/x-python",
   "name": "python",
   "nbconvert_exporter": "python",
   "pygments_lexer": "ipython3",
   "version": "3.8.8"
  }
 },
 "nbformat": 4,
 "nbformat_minor": 5
}
